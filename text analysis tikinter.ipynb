{
 "cells": [
  {
   "cell_type": "code",
   "execution_count": 1,
   "metadata": {
    "id": "d35PlRgeSI7g"
   },
   "outputs": [],
   "source": [
    "import pandas as pd\n",
    "import numpy as np\n",
    "import re\n",
    "import seaborn as sns\n",
    "from tkinter import *\n",
    "from tkinter import filedialog\n",
    "import os\n",
    "from PIL import Image,ImageTk"
   ]
  },
  {
   "cell_type": "code",
   "execution_count": 3,
   "metadata": {
    "id": "mI_2Qut4SNf1"
   },
   "outputs": [],
   "source": [
    "df=pd.read_csv(\"C:\\\\Users\\\\Pro\\\\Downloads\\\\amazon.csv\")"
   ]
  },
  {
   "cell_type": "code",
   "execution_count": 4,
   "metadata": {
    "colab": {
     "base_uri": "https://localhost:8080/",
     "height": 206
    },
    "id": "FRPE8k6OSS0f",
    "outputId": "ff6e032e-b302-491a-d951-9cc2cfdf23fe"
   },
   "outputs": [
    {
     "data": {
      "text/html": [
       "<div>\n",
       "<style scoped>\n",
       "    .dataframe tbody tr th:only-of-type {\n",
       "        vertical-align: middle;\n",
       "    }\n",
       "\n",
       "    .dataframe tbody tr th {\n",
       "        vertical-align: top;\n",
       "    }\n",
       "\n",
       "    .dataframe thead th {\n",
       "        text-align: right;\n",
       "    }\n",
       "</style>\n",
       "<table border=\"1\" class=\"dataframe\">\n",
       "  <thead>\n",
       "    <tr style=\"text-align: right;\">\n",
       "      <th></th>\n",
       "      <th>Review</th>\n",
       "      <th>Sentiment</th>\n",
       "    </tr>\n",
       "  </thead>\n",
       "  <tbody>\n",
       "    <tr>\n",
       "      <th>0</th>\n",
       "      <td>Fast shipping but this product is very cheaply...</td>\n",
       "      <td>1</td>\n",
       "    </tr>\n",
       "    <tr>\n",
       "      <th>1</th>\n",
       "      <td>This case takes so long to ship and it's not e...</td>\n",
       "      <td>1</td>\n",
       "    </tr>\n",
       "    <tr>\n",
       "      <th>2</th>\n",
       "      <td>Good for not droids. Not good for iPhones. You...</td>\n",
       "      <td>1</td>\n",
       "    </tr>\n",
       "    <tr>\n",
       "      <th>3</th>\n",
       "      <td>The cable was not compatible between my macboo...</td>\n",
       "      <td>1</td>\n",
       "    </tr>\n",
       "    <tr>\n",
       "      <th>4</th>\n",
       "      <td>The case is nice but did not have a glow light...</td>\n",
       "      <td>1</td>\n",
       "    </tr>\n",
       "  </tbody>\n",
       "</table>\n",
       "</div>"
      ],
      "text/plain": [
       "                                              Review  Sentiment\n",
       "0  Fast shipping but this product is very cheaply...          1\n",
       "1  This case takes so long to ship and it's not e...          1\n",
       "2  Good for not droids. Not good for iPhones. You...          1\n",
       "3  The cable was not compatible between my macboo...          1\n",
       "4  The case is nice but did not have a glow light...          1"
      ]
     },
     "execution_count": 4,
     "metadata": {},
     "output_type": "execute_result"
    }
   ],
   "source": [
    "df.head()"
   ]
  },
  {
   "cell_type": "code",
   "execution_count": 5,
   "metadata": {},
   "outputs": [
    {
     "name": "stdout",
     "output_type": "stream",
     "text": [
      "<class 'pandas.core.frame.DataFrame'>\n",
      "RangeIndex: 25000 entries, 0 to 24999\n",
      "Data columns (total 2 columns):\n",
      " #   Column     Non-Null Count  Dtype \n",
      "---  ------     --------------  ----- \n",
      " 0   Review     24999 non-null  object\n",
      " 1   Sentiment  25000 non-null  int64 \n",
      "dtypes: int64(1), object(1)\n",
      "memory usage: 390.8+ KB\n"
     ]
    }
   ],
   "source": [
    "df.info()"
   ]
  },
  {
   "cell_type": "code",
   "execution_count": 6,
   "metadata": {
    "colab": {
     "base_uri": "https://localhost:8080/"
    },
    "id": "AkhNm8XmSVFE",
    "outputId": "49ed100a-561b-4ce5-ba95-32ccafadf5e8"
   },
   "outputs": [],
   "source": [
    "df.dropna(inplace=True)"
   ]
  },
  {
   "cell_type": "code",
   "execution_count": 7,
   "metadata": {},
   "outputs": [],
   "source": [
    "df.loc[df[\"Sentiment\"]<=3,'Sentiment']=0\n",
    "df.loc[df[\"Sentiment\"]>3,'Sentiment']=1\n"
   ]
  },
  {
   "cell_type": "code",
   "execution_count": 8,
   "metadata": {},
   "outputs": [
    {
     "data": {
      "text/plain": [
       "0    15000\n",
       "1     9999\n",
       "Name: Sentiment, dtype: int64"
      ]
     },
     "execution_count": 8,
     "metadata": {},
     "output_type": "execute_result"
    }
   ],
   "source": [
    "df[\"Sentiment\"].value_counts()"
   ]
  },
  {
   "cell_type": "code",
   "execution_count": 9,
   "metadata": {},
   "outputs": [],
   "source": [
    "df[\"Review\"]=df[\"Review\"].astype(str)"
   ]
  },
  {
   "cell_type": "code",
   "execution_count": 10,
   "metadata": {},
   "outputs": [
    {
     "data": {
      "text/plain": [
       "pandas.core.series.Series"
      ]
     },
     "execution_count": 10,
     "metadata": {},
     "output_type": "execute_result"
    }
   ],
   "source": [
    "type(df[\"Review\"])"
   ]
  },
  {
   "cell_type": "code",
   "execution_count": 11,
   "metadata": {},
   "outputs": [
    {
     "name": "stdout",
     "output_type": "stream",
     "text": [
      "<class 'pandas.core.frame.DataFrame'>\n",
      "Int64Index: 24999 entries, 0 to 24999\n",
      "Data columns (total 2 columns):\n",
      " #   Column     Non-Null Count  Dtype \n",
      "---  ------     --------------  ----- \n",
      " 0   Review     24999 non-null  object\n",
      " 1   Sentiment  24999 non-null  int64 \n",
      "dtypes: int64(1), object(1)\n",
      "memory usage: 585.9+ KB\n"
     ]
    }
   ],
   "source": [
    "df.info()"
   ]
  },
  {
   "cell_type": "markdown",
   "metadata": {},
   "source": [
    "# Data visulization"
   ]
  },
  {
   "cell_type": "code",
   "execution_count": 12,
   "metadata": {},
   "outputs": [
    {
     "name": "stderr",
     "output_type": "stream",
     "text": [
      "E:\\anaconda\\lib\\site-packages\\seaborn\\_decorators.py:36: FutureWarning: Pass the following variable as a keyword arg: x. From version 0.12, the only valid positional argument will be `data`, and passing other arguments without an explicit keyword will result in an error or misinterpretation.\n",
      "  warnings.warn(\n"
     ]
    },
    {
     "data": {
      "text/plain": [
       "<AxesSubplot:xlabel='Sentiment', ylabel='count'>"
      ]
     },
     "execution_count": 12,
     "metadata": {},
     "output_type": "execute_result"
    },
    {
     "data": {
      "image/png": "[encoded data removed]",
      "text/plain": [
       "<Figure size 432x288 with 1 Axes>"
      ]
     },
     "metadata": {
      "needs_background": "light"
     },
     "output_type": "display_data"
    }
   ],
   "source": [
    "sns.countplot(df['Sentiment'])"
   ]
  },
  {
   "cell_type": "markdown",
   "metadata": {},
   "source": [
    "# Data cleaning"
   ]
  },
  {
   "cell_type": "code",
   "execution_count": 13,
   "metadata": {
    "id": "i6gYGyUvSpzJ"
   },
   "outputs": [],
   "source": [
    "\n",
    "def _remove_special_chars(x):\n",
    "    x = re.sub(r'[^\\w ]+', \"\", x)\n",
    "    return x"
   ]
  },
  {
   "cell_type": "code",
   "execution_count": 15,
   "metadata": {
    "id": "kq2nlqJ2eSBU"
   },
   "outputs": [],
   "source": [
    "\n",
    "df[\"Review\"]=df[\"Review\"].apply(lambda x:_remove_special_chars(x))\n"
   ]
  },
  {
   "cell_type": "code",
   "execution_count": 16,
   "metadata": {
    "id": "uYIxzisaeHqH"
   },
   "outputs": [],
   "source": [
    "def _remove_emails(x):\n",
    "    return re.sub(r'([a-z0-9+._-]+@[a-z0-9+._-]+\\.[a-z0-9+_-]+)',\"\", x)\n",
    "df['Review']=df['Review'].apply(lambda x:_remove_emails(x))\n",
    " "
   ]
  },
  {
   "cell_type": "code",
   "execution_count": 17,
   "metadata": {},
   "outputs": [],
   "source": [
    "def _remove_urls(x):\n",
    "    return re.sub(r'(http|https|ftp|ssh)://([\\w_-]+(?:(?:\\.[\\w_-]+)+))([\\w.,@?^=%&:/~+#-]*[\\w@?^=%&/~+#-])?', '' , x)\n",
    "df['Review']=df['Review'].apply(lambda x:_remove_urls(x)) "
   ]
  },
  {
   "cell_type": "code",
   "execution_count": 18,
   "metadata": {
    "colab": {
     "base_uri": "https://localhost:8080/",
     "height": 206
    },
    "id": "BTvFDy3uezXE",
    "outputId": "df84d534-494c-473b-ae0e-d48a71802ac0"
   },
   "outputs": [
    {
     "data": {
      "text/html": [
       "<div>\n",
       "<style scoped>\n",
       "    .dataframe tbody tr th:only-of-type {\n",
       "        vertical-align: middle;\n",
       "    }\n",
       "\n",
       "    .dataframe tbody tr th {\n",
       "        vertical-align: top;\n",
       "    }\n",
       "\n",
       "    .dataframe thead th {\n",
       "        text-align: right;\n",
       "    }\n",
       "</style>\n",
       "<table border=\"1\" class=\"dataframe\">\n",
       "  <thead>\n",
       "    <tr style=\"text-align: right;\">\n",
       "      <th></th>\n",
       "      <th>Review</th>\n",
       "      <th>Sentiment</th>\n",
       "    </tr>\n",
       "  </thead>\n",
       "  <tbody>\n",
       "    <tr>\n",
       "      <th>0</th>\n",
       "      <td>Fast shipping but this product is very cheaply...</td>\n",
       "      <td>0</td>\n",
       "    </tr>\n",
       "    <tr>\n",
       "      <th>1</th>\n",
       "      <td>This case takes so long to ship and its not ev...</td>\n",
       "      <td>0</td>\n",
       "    </tr>\n",
       "    <tr>\n",
       "      <th>2</th>\n",
       "      <td>Good for not droids Not good for iPhones You c...</td>\n",
       "      <td>0</td>\n",
       "    </tr>\n",
       "    <tr>\n",
       "      <th>3</th>\n",
       "      <td>The cable was not compatible between my macboo...</td>\n",
       "      <td>0</td>\n",
       "    </tr>\n",
       "    <tr>\n",
       "      <th>4</th>\n",
       "      <td>The case is nice but did not have a glow light...</td>\n",
       "      <td>0</td>\n",
       "    </tr>\n",
       "  </tbody>\n",
       "</table>\n",
       "</div>"
      ],
      "text/plain": [
       "                                              Review  Sentiment\n",
       "0  Fast shipping but this product is very cheaply...          0\n",
       "1  This case takes so long to ship and its not ev...          0\n",
       "2  Good for not droids Not good for iPhones You c...          0\n",
       "3  The cable was not compatible between my macboo...          0\n",
       "4  The case is nice but did not have a glow light...          0"
      ]
     },
     "execution_count": 18,
     "metadata": {},
     "output_type": "execute_result"
    }
   ],
   "source": [
    "df.head()"
   ]
  },
  {
   "cell_type": "markdown",
   "metadata": {},
   "source": [
    "# Feature Extraction"
   ]
  },
  {
   "cell_type": "code",
   "execution_count": 19,
   "metadata": {
    "id": "0jyVqsEsfFj7"
   },
   "outputs": [],
   "source": [
    "from sklearn.feature_extraction.text import TfidfVectorizer\n",
    "from sklearn.model_selection import train_test_split \n",
    "from sklearn.svm import LinearSVC\n",
    "from sklearn.metrics import confusion_matrix,classification_report"
   ]
  },
  {
   "cell_type": "code",
   "execution_count": 20,
   "metadata": {
    "colab": {
     "base_uri": "https://localhost:8080/"
    },
    "id": "49bMUiQcflDb",
    "outputId": "a9a2ecdb-7e6f-454d-9bbc-5e6d016aaf8a"
   },
   "outputs": [
    {
     "data": {
      "text/plain": [
       "TfidfVectorizer(analyzer='char', max_features=20000, ngram_range=(1, 3))"
      ]
     },
     "execution_count": 20,
     "metadata": {},
     "output_type": "execute_result"
    }
   ],
   "source": [
    "Tf=TfidfVectorizer(max_features=20000,ngram_range=(1,3),analyzer='char')\n",
    "Tf\n"
   ]
  },
  {
   "cell_type": "code",
   "execution_count": 21,
   "metadata": {
    "id": "ZOuWon9UgTXY"
   },
   "outputs": [],
   "source": [
    "X=Tf.fit_transform(df['Review']).toarray()\n",
    "y=df['Sentiment']\n"
   ]
  },
  {
   "cell_type": "markdown",
   "metadata": {},
   "source": [
    "# Data spliting"
   ]
  },
  {
   "cell_type": "code",
   "execution_count": 22,
   "metadata": {
    "id": "XC_TuThdMO8J"
   },
   "outputs": [],
   "source": [
    "from sklearn.model_selection import train_test_split\n",
    "x_train,x_test,y_train,y_test = train_test_split(X,y,test_size=0.2,random_state=0)"
   ]
  },
  {
   "cell_type": "code",
   "execution_count": 23,
   "metadata": {
    "colab": {
     "base_uri": "https://localhost:8080/"
    },
    "id": "9bI31S8bg4v9",
    "outputId": "245bbff1-ceeb-43c6-a355-024139a92c1e"
   },
   "outputs": [
    {
     "data": {
      "text/plain": [
       "LinearSVC()"
      ]
     },
     "execution_count": 23,
     "metadata": {},
     "output_type": "execute_result"
    }
   ],
   "source": [
    "from sklearn.svm import LinearSVC\n",
    "clf=LinearSVC()\n",
    "clf.fit(x_train,y_train)"
   ]
  },
  {
   "cell_type": "code",
   "execution_count": 24,
   "metadata": {
    "id": "PWqgAnC4Q8lW"
   },
   "outputs": [],
   "source": [
    "y_pred=clf.predict(x_test)"
   ]
  },
  {
   "cell_type": "code",
   "execution_count": 25,
   "metadata": {},
   "outputs": [
    {
     "data": {
      "text/plain": [
       "0.8744437221861093"
      ]
     },
     "execution_count": 25,
     "metadata": {},
     "output_type": "execute_result"
    }
   ],
   "source": [
    "clf.score(x_train,y_train)"
   ]
  },
  {
   "cell_type": "code",
   "execution_count": 26,
   "metadata": {},
   "outputs": [
    {
     "data": {
      "text/plain": [
       "0.8224"
      ]
     },
     "execution_count": 26,
     "metadata": {},
     "output_type": "execute_result"
    }
   ],
   "source": [
    "clf.score(x_test,y_test)"
   ]
  },
  {
   "cell_type": "code",
   "execution_count": 27,
   "metadata": {
    "colab": {
     "base_uri": "https://localhost:8080/"
    },
    "id": "5RN-JeckhN_z",
    "outputId": "782ff3fe-554a-4bc5-ee91-81f3274528d7"
   },
   "outputs": [
    {
     "name": "stdout",
     "output_type": "stream",
     "text": [
      "[[2661  319]\n",
      " [ 569 1451]]\n"
     ]
    }
   ],
   "source": [
    "print(confusion_matrix(y_test,y_pred))"
   ]
  },
  {
   "cell_type": "code",
   "execution_count": 28,
   "metadata": {
    "colab": {
     "base_uri": "https://localhost:8080/",
     "height": 282
    },
    "id": "BP_PrF-gVKQF",
    "outputId": "9e4c073d-0826-4249-b055-645a1c621a1f"
   },
   "outputs": [
    {
     "data": {
      "text/plain": [
       "<AxesSubplot:>"
      ]
     },
     "execution_count": 28,
     "metadata": {},
     "output_type": "execute_result"
    },
    {
     "data": {
      "image/png": "[encoded data removed]",
      "text/plain": [
       "<Figure size 432x288 with 2 Axes>"
      ]
     },
     "metadata": {
      "needs_background": "light"
     },
     "output_type": "display_data"
    }
   ],
   "source": [
    "import seaborn as sns\n",
    "sns.heatmap(confusion_matrix(y_test,y_pred))"
   ]
  },
  {
   "cell_type": "code",
   "execution_count": 29,
   "metadata": {
    "colab": {
     "base_uri": "https://localhost:8080/"
    },
    "id": "6BrZwEnjMu02",
    "outputId": "b6c459cb-7d62-48ce-a00a-3c0cb58a8831"
   },
   "outputs": [
    {
     "name": "stdout",
     "output_type": "stream",
     "text": [
      "              precision    recall  f1-score   support\n",
      "\n",
      "           0       0.82      0.89      0.86      2980\n",
      "           1       0.82      0.72      0.77      2020\n",
      "\n",
      "    accuracy                           0.82      5000\n",
      "   macro avg       0.82      0.81      0.81      5000\n",
      "weighted avg       0.82      0.82      0.82      5000\n",
      "\n"
     ]
    }
   ],
   "source": [
    "print(classification_report(y_test,y_pred))"
   ]
  },
  {
   "cell_type": "code",
   "execution_count": 30,
   "metadata": {
    "colab": {
     "base_uri": "https://localhost:8080/"
    },
    "id": "UxW7GxQehVun",
    "outputId": "39b6fdf4-04a0-45f3-f3fa-6088dc6f2e0a"
   },
   "outputs": [
    {
     "name": "stdout",
     "output_type": "stream",
     "text": [
      "positive\n"
     ]
    }
   ],
   "source": [
    "x='it is very beaut'\n",
    "vec=Tf.transform([x])\n",
    "a=clf.predict(vec)\n",
    "if a==1:\n",
    "    print(\"positive\")\n",
    "else:\n",
    "    print(\"negtive\")\n",
    "\n",
    "    "
   ]
  },
  {
   "cell_type": "code",
   "execution_count": 31,
   "metadata": {
    "colab": {
     "base_uri": "https://localhost:8080/"
    },
    "id": "J4s5F3DTjCzw",
    "outputId": "975c89ab-fe69-47c8-b3dc-9301ffc2462c"
   },
   "outputs": [
    {
     "name": "stdout",
     "output_type": "stream",
     "text": [
      "negtive\n"
     ]
    }
   ],
   "source": [
    "a=\"it is so bad \"\n",
    "vec=Tf.transform([a])\n",
    "x=clf.predict(vec)\n",
    "if x==1:\n",
    "    print(\"positive\")\n",
    "else:\n",
    "    print(\"negtive\")\n"
   ]
  },
  {
   "cell_type": "code",
   "execution_count": 32,
   "metadata": {
    "id": "4BGYP_ixl-Ja"
   },
   "outputs": [],
   "source": [
    "import pickle\n",
    "model=pickle.dumps(clf)\n"
   ]
  },
  {
   "cell_type": "code",
   "execution_count": 33,
   "metadata": {},
   "outputs": [],
   "source": [
    "import pickle\n",
    "saved_model=pickle.loads(model)"
   ]
  },
  {
   "cell_type": "code",
   "execution_count": 34,
   "metadata": {},
   "outputs": [],
   "source": [
    "import pytesseract\n",
    "import cv2\n",
    "pytesseract.pytesseract.tesseract_cmd = r\"E:\\\\Tesseract-OCR\\\\tesseract.exe\"\n",
    "img=cv2.imread(\"nega4-4.png\")\n",
    "cv2.imshow(\"image\",img)\n",
    "cv2.waitKey(0)\n",
    "cv2.destroyAllWindows()\n",
    "result=pytesseract.image_to_string(img)"
   ]
  },
  {
   "cell_type": "code",
   "execution_count": 35,
   "metadata": {},
   "outputs": [
    {
     "name": "stdout",
     "output_type": "stream",
     "text": [
      "Inve snsness on Bee 62015 5:20:32 AM FST\n",
      "‘rian says:\n",
      "\n",
      "Hello. A customer service representative reached out to me vie email and spoke about my issues with the\n",
      "\n",
      "‘SoundCore, They noted the speaker will purposely stop playing due to high volumes. However, they noted a\n",
      "\n",
      "revised version ofthis speaker is going to be released shorty and I will surely update my review once T got\n",
      "\n",
      "my hands on it. have noted this in my revised review. I am surprised nobody else has run into this isu\n",
      "\n",
      " \n",
      "\n",
      " \n",
      "\n",
      " \n",
      "\n",
      " \n",
      "\n",
      "only to this post {oft ouase thing aa acetone dann Se es\n",
      "\n",
      " \n",
      "\n"
     ]
    }
   ],
   "source": [
    "print(result)"
   ]
  },
  {
   "cell_type": "code",
   "execution_count": 36,
   "metadata": {},
   "outputs": [],
   "source": [
    "ctr=1\n",
    "c=1\n",
    "ct=1\n",
    "def  close_win():\n",
    "    root.destroy()\n",
    "def show_frame(frame):\n",
    "    frame.tkraise()\n",
    "        \n",
    "def  analyse_text(a):\n",
    "    global ctr\n",
    "    vec=Tf.transform([a])\n",
    "    x=saved_model.predict(vec)\n",
    "    #l2=Label(frame2,text=\"\",bg='hot pink')\n",
    "    #l2.pack()\n",
    "    if ctr>1:\n",
    "        for widget in frame2.winfo_children():\n",
    "            widget.destroy()        \n",
    "    frame2.tkraise()\n",
    "    if x==1:\n",
    "        mylabel=Label(frame2,text=\"Positive\",width=40,height=5,fg='purple',font=('Times 20 italic',50,'bold'),bg='ghost white').pack(pady=10)\n",
    "    else:\n",
    "        mylabel=Label(frame2,text=\"Negitive\",width=40,height=5,fg='purple',font=('Times 20 italic',50,'bold'),bg='ghost white').pack(pady=10)\n",
    "    bb=Button(frame2,text=\"back\",padx=50,bd=6,fg=\"black\",bg=\"orchid2\",font=('Times 20 italic',20,'bold'),command=lambda:show_frame(frame11))\n",
    "    bb.pack()\n",
    "    b3=Button(frame2,text=\"exit\",bd=6,bg=\"orchid1\",font=('Times 20 italic',20,'bold'),command=close_win).pack(pady=10)\n",
    "    \n",
    "    ctr=ctr+1\n",
    "def analyse_photo(img):\n",
    "    global c\n",
    "    pytesseract.pytesseract.tesseract_cmd = r\"E:\\\\Tesseract-OCR\\\\tesseract.exe\"\n",
    "    result=pytesseract.image_to_string(img)\n",
    "    vec=Tf.transform([result])\n",
    "    x=saved_model.predict(vec)\n",
    "    if c>1:\n",
    "        for widget in frame4.winfo_children():\n",
    "            widget.destroy()\n",
    "            \n",
    "    frame4.tkraise()\n",
    "    my_label=Label(frame4,bg='ghost white')\n",
    "    my_label.pack(pady=20)\n",
    "    b3=Button(frame4,text=\"exit\",bd=8,bg=\"orchid1\",font=('Times 20 italic',10,'bold'),command=close_win).pack(side=\"bottom\",padx=5)\n",
    "    bP=Button(frame4,text=\"back\",padx=20,bd=8,fg=\"black\",bg=\"orchid2\",font=('Times 20 italic',10,'bold'),command=lambda:show_frame(frame11))\n",
    "    bP.pack(side=\"bottom\",padx=5,pady=5);   \n",
    "    if x==1:\n",
    "        mylabel=Label(frame4,text=\"Positive\",width=20,height=5,fg='orchid2',font=('Times 20 italic',50,'bold'),bg='ghost white').pack(pady=10)\n",
    "        img=Image.open('happy.jpg')\n",
    "        img.thumbnail((300,300))\n",
    "        img1=ImageTk.PhotoImage(img)\n",
    "        my_label.configure(image=img1)\n",
    "        my_label.image=img1\n",
    "    else:\n",
    "        mylabel=Label(frame4,text=\"Negative\",width=20,height=5,fg='orchid2',font=('Times 20 italic',50,'bold'),bg='ghost white').pack(side=\"top\")\n",
    "        img=Image.open('sad.jpg')\n",
    "        img.thumbnail((300,300))\n",
    "        img1=ImageTk.PhotoImage(img)\n",
    "        my_label.configure(image=img1)\n",
    "        my_label.image=img1\n",
    "      \n",
    "    c=c+1\n",
    "    \n",
    "def show_image(frame):\n",
    "    global ct\n",
    "    if ct>1:\n",
    "        for widget in frame.winfo_children():\n",
    "            widget.destroy()        \n",
    "    frame.tkraise()\n",
    "    lbl=Label(frame)\n",
    "    lbl.pack(pady=10)\n",
    "    fln=filedialog.askopenfilename(title=\"select Image file\",filetypes=((\"JPG File\",\"*.jpg\"),(\"PNG File\",\"*.png\"),(\"All File\",\"*.*\")))\n",
    "    img=Image.open(fln)\n",
    "    img1=ImageTk.PhotoImage(img)\n",
    "    lbl.configure(image=img1)\n",
    "    lbl.image=img1\n",
    "    bb=Button(frame3,text=\"analyse photo\",padx=50,bd=6,fg=\"black\",bg=\"orchid2\",font=('Times 20 italic',20,'bold'),command=lambda:analyse_photo(img))\n",
    "    bb.pack(pady=10)\n",
    "    ct=ct+1\n",
    "    \n",
    "    \n",
    "    \n",
    "    \n",
    "    \n",
    "        \n",
    "        \n"
   ]
  },
  {
   "cell_type": "code",
   "execution_count": 39,
   "metadata": {},
   "outputs": [],
   "source": [
    "root=Tk()\n",
    "root.title(\"Sentiment Analysis\")\n",
    "root.geometry(\"800x500\")\n",
    "root.rowconfigure(0,weight=1)\n",
    "root.columnconfigure(0,weight=1)\n",
    "frame1=Frame(root,bg='ghost white')\n",
    "frame11=Frame(root,bg='ghost white')\n",
    "frame2=Frame(root,bg='ghost white')\n",
    "frame3=Frame(root)\n",
    "frame4=Frame(root,bg='ghost white')\n",
    "frame11.grid(row=0,column=0,sticky='nsew')\n",
    "frame2.grid(row=0,column=0,sticky='nsew')\n",
    "frame1.grid(row=0,column=0,sticky='nsew')\n",
    "frame3.grid(row=0,column=0,sticky='nsew')\n",
    "frame4.grid(row=0,column=0,sticky='nsew')\n",
    "#frame11\n",
    "bg=ImageTk.PhotoImage(Image.open('mazon.jpg'))\n",
    "la=Label(frame11,image=bg)\n",
    "la.place(x=0,y=0)\n",
    "b2=Button(frame11,text=\"enter text\",padx=50,bd=6,fg=\"black\",bg=\"medium purple1\",font=('Times 20 italic',20,'bold'),command=lambda:show_frame(frame1))\n",
    "b2.pack(side='bottom',pady=5)\n",
    "b3=Button(frame11,text=\"choose photo\",padx=50,bd=6,fg=\"black\",bg=\"medium purple1\",font=('Times 20 italic',20,'bold'),command=lambda:show_image(frame3))\n",
    "b3.pack(side='bottom',pady=5)\n",
    "#button1_canvas = canvas1.create_window( 100, 10,anchor = \"nw\",window = b2) \n",
    "#button2_canvas = canvas1.create_window( 100, 40,anchor = \"nw\",window = b3)                                \n",
    "# frame1   \n",
    "e=Entry(frame1,width=50,bd=10)\n",
    "e.insert(0,\"   enter your text    \")\n",
    "e.pack(pady=50,padx=10)\n",
    "b=Button(frame1,text=\"analyse the text\",padx=50,bd=4,fg=\"black\",bg=\"orchid2\",font=('Times 20 italic',20,'bold'),command=lambda:analyse_text(e.get()))\n",
    "b.pack(pady=10)\n",
    "show_frame(frame11)\n",
    "root.mainloop()\n",
    "\n"
   ]
  },
  {
   "cell_type": "code",
   "execution_count": null,
   "metadata": {},
   "outputs": [],
   "source": []
  },
  {
   "cell_type": "code",
   "execution_count": null,
   "metadata": {},
   "outputs": [],
   "source": []
  }
 ],
 "metadata": {
  "colab": {
   "provenance": []
  },
  "kernelspec": {
   "display_name": "Python 3",
   "language": "python",
   "name": "python3"
  },
  "language_info": {
   "codemirror_mode": {
    "name": "ipython",
    "version": 3
   },
   "file_extension": ".py",
   "mimetype": "text/x-python",
   "name": "python",
   "nbconvert_exporter": "python",
   "pygments_lexer": "ipython3",
   "version": "3.8.5"
  }
 },
 "nbformat": 4,
 "nbformat_minor": 1
}
